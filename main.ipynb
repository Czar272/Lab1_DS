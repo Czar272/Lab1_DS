{
 "cells": [
  {
   "cell_type": "code",
   "execution_count": 1,
   "id": "e5ad8d5b",
   "metadata": {},
   "outputs": [],
   "source": [
    "import pandas as pd"
   ]
  },
  {
   "cell_type": "code",
   "execution_count": null,
   "id": "ca25d8ae",
   "metadata": {},
   "outputs": [],
   "source": []
  },
  {
   "cell_type": "markdown",
   "id": "ea58fd4d",
   "metadata": {},
   "source": [
    "### Convertir de xlsx a csv"
   ]
  },
  {
   "cell_type": "code",
   "execution_count": 3,
   "id": "7e9c009f",
   "metadata": {},
   "outputs": [],
   "source": [
    "FileOG = \"./data/Excel/Estadisticas_historicas_comercializacion.xlsx\"\n",
    "importacion = pd.read_excel(FileOG, sheet_name=\"IMPORTACION\", engine=\"openpyxl\")\n",
    "costoImport = pd.read_excel(FileOG, sheet_name=\"COSTO IMPORTACION\", engine=\"openpyxl\")\n",
    "consumo = pd.read_excel(FileOG, sheet_name=\"CONSUMO\", engine=\"openpyxl\")\n",
    "exportacion = pd.read_excel(FileOG, sheet_name=\"EXPORTACION\", engine=\"openpyxl\")\n",
    "\n",
    "importacionCSV = \"./data/CSV/importacion.csv\"\n",
    "costoImportCSV = \"./data/CSV/costoImport.csv\"\n",
    "consumoCSV = \"./data/CSV/consumo.csv\"\n",
    "exportacionCSV = \"./data/CSV/exportacion.csv\"\n",
    "\n",
    "importacion.to_csv(importacionCSV, index=False)\n",
    "costoImport.to_csv(costoImportCSV, index=False)\n",
    "consumo.to_csv(consumoCSV, index=False)\n",
    "exportacion.to_csv(exportacionCSV, index=False)"
   ]
  },
  {
   "cell_type": "markdown",
   "id": "a39fc9c4",
   "metadata": {},
   "source": [
    "### Descripción de los datos\n",
    "\n",
    "__IMPORTACION__\n",
    "\n",
    "En este conjunto se registra el volumen de productos petroleros importados de forma mensual a Guatemala desde el 2001 hasta el 2024. La unidad de medición de cada una de las variables en este conjunto es de barriles*.\n",
    "\n",
    "__COSTO IMPORTACION__\n",
    "\n",
    "En este conjunto se muestra el costo monetario mensual en dolares estadounidenses de importar los productos también listados en el conjunto anterior. Cabe resaltar que se omiten algunos de los productos de la lista anterior como el MTBE, Orimulsión y el petróleo reconstituido. Los años de registro en este conjunto van del 2010 al 2024.\n",
    "\n",
    "__CONSUMO__\n",
    "\n",
    "Este conjunto representa el consumo mensual interno de diferentes productos energéticos en Guatemala. Sus variables son similares a las anteriores pero con algunos cambios menores. La unidad en la que se mide cada variable es en barriles*. Los registros en este conjunto van del 2000 al 2024.\n",
    "\n",
    "__EXPORTACION__\n",
    "\n",
    "En este conjunto se detallan los productos derivados del petróleo que Guatemala exporta mensualmente. Al igual que el consumo y la importación, este se mide en barriles*. Los datos en este conjunto van desde el 2002 hasta el 2024.\n",
    "\n",
    "*Un barril equivale a 42 galones."
   ]
  }
 ],
 "metadata": {
  "kernelspec": {
   "display_name": "Python 3",
   "language": "python",
   "name": "python3"
  },
  "language_info": {
   "codemirror_mode": {
    "name": "ipython",
    "version": 3
   },
   "file_extension": ".py",
   "mimetype": "text/x-python",
   "name": "python",
   "nbconvert_exporter": "python",
   "pygments_lexer": "ipython3",
   "version": "3.13.3"
  }
 },
 "nbformat": 4,
 "nbformat_minor": 5
}
