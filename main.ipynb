{
 "cells": [
  {
   "cell_type": "code",
   "execution_count": 1,
   "id": "e5ad8d5b",
   "metadata": {},
   "outputs": [],
   "source": [
    "import pandas as pd"
   ]
  },
  {
   "cell_type": "markdown",
   "id": "ea58fd4d",
   "metadata": {},
   "source": [
    "### Convertir de xlsx a csv"
   ]
  },
  {
   "cell_type": "code",
   "execution_count": 3,
   "id": "7e9c009f",
   "metadata": {},
   "outputs": [],
   "source": [
    "FileOG = \"./data/Excel/Estadisticas_historicas_comercializacion.xlsx\"\n",
    "importacion = pd.read_excel(FileOG, sheet_name=\"IMPORTACION\", engine=\"openpyxl\")\n",
    "costoImport = pd.read_excel(FileOG, sheet_name=\"COSTO IMPORTACION\", engine=\"openpyxl\")\n",
    "consumo = pd.read_excel(FileOG, sheet_name=\"CONSUMO\", engine=\"openpyxl\")\n",
    "exportacion = pd.read_excel(FileOG, sheet_name=\"EXPORTACION\", engine=\"openpyxl\")\n",
    "\n",
    "importacionCSV = \"./data/CSV/importacion.csv\"\n",
    "costoImportCSV = \"./data/CSV/costoImport.csv\"\n",
    "consumoCSV = \"./data/CSV/consumo.csv\"\n",
    "exportacionCSV = \"./data/CSV/exportacion.csv\"\n",
    "\n",
    "importacion.to_csv(importacionCSV, index=False)\n",
    "costoImport.to_csv(costoImportCSV, index=False)\n",
    "consumo.to_csv(consumoCSV, index=False)\n",
    "exportacion.to_csv(exportacionCSV, index=False)"
   ]
  }
 ],
 "metadata": {
  "kernelspec": {
   "display_name": "Python 3",
   "language": "python",
   "name": "python3"
  },
  "language_info": {
   "codemirror_mode": {
    "name": "ipython",
    "version": 3
   },
   "file_extension": ".py",
   "mimetype": "text/x-python",
   "name": "python",
   "nbconvert_exporter": "python",
   "pygments_lexer": "ipython3",
   "version": "3.13.3"
  }
 },
 "nbformat": 4,
 "nbformat_minor": 5
}
